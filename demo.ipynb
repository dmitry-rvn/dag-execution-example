{
 "cells": [
  {
   "cell_type": "markdown",
   "id": "19427ad7-b34c-4231-a64f-c661079d6e63",
   "metadata": {},
   "source": [
    "## Usage example\n",
    "\n",
    "The project is about:\n",
    "1. downloading foreign exchange rates (foreign currency to BYN) from external API (and insert them into database)\n",
    "2. calculating other values based on downloaded rate (*so there a DAG appears*) (and insert then into database)\n",
    "3. creating a DAG from config file (where downloaded and calucalted items are described), saving to a file, exporting DAG image\n",
    "4. exporting database table to file\n",
    "\n",
    "This project uses [paradag](https://github.com/xianghuzhao/paradag) Python package for creating DAG."
   ]
  },
  {
   "cell_type": "code",
   "execution_count": 1,
   "id": "6c9ccdc3-a59d-4660-8f5f-67b3df0adea1",
   "metadata": {},
   "outputs": [],
   "source": [
    "from subprocess import run\n",
    "\n",
    "import pandas as pd\n",
    "import seaborn as sns\n",
    "\n",
    "sns.set_style('darkgrid', {'axes.facecolor': '.9'})\n",
    "sns.set(rc={'figure.figsize': (10, 5)})"
   ]
  },
  {
   "cell_type": "code",
   "execution_count": 2,
   "id": "3dcd6fc7-58e9-4490-9652-208eda1f87c5",
   "metadata": {},
   "outputs": [
    {
     "name": "stdout",
     "output_type": "stream",
     "text": [
      "Usage: cli.py [OPTIONS] COMMAND [ARGS]...\n",
      "\n",
      "Options:\n",
      "  --help  Show this message and exit.\n",
      "\n",
      "Commands:\n",
      "  create-dag         Create DAG from tasks config file, save DAG and it's...\n",
      "  export-table       Export `rates` table into CSV-file\n",
      "  insert-data        Load DAG from file, run DAG for specified date, save...\n",
      "  recreate-database  Recreate database tables\n"
     ]
    }
   ],
   "source": [
    "! python src/cli.py --help"
   ]
  },
  {
   "cell_type": "markdown",
   "id": "afeaf3e1-8303-4c6b-b71c-b815e8987a1b",
   "metadata": {},
   "source": [
    "#### [Re]create database (SQLite)"
   ]
  },
  {
   "cell_type": "code",
   "execution_count": 3,
   "id": "816761dc-54bc-4df0-9ea0-0f5d94751f39",
   "metadata": {},
   "outputs": [
    {
     "name": "stdout",
     "output_type": "stream",
     "text": [
      "DROP TABLE IF EXISTS rates;\n",
      "\n",
      "CREATE TABLE rates (\n",
      "        dt TEXT NOT NULL,\n",
      "        currency_code TEXT NOT NULL,\n",
      "        value REAL NOT NULL,\n",
      "        sysmoment TEXT DEFAULT (DATETIME('now')),\n",
      "        UNIQUE(dt, currency_code)\n",
      ");\n"
     ]
    }
   ],
   "source": [
    "! more sql\\init\\create_table_rates.sql "
   ]
  },
  {
   "cell_type": "code",
   "execution_count": 4,
   "id": "cbb9592d-7bda-4123-8703-d3b7bddf3266",
   "metadata": {},
   "outputs": [
    {
     "name": "stdout",
     "output_type": "stream",
     "text": [
      "Usage: cli.py recreate-database [OPTIONS]\n",
      "\n",
      "  Recreate database tables\n",
      "\n",
      "Options:\n",
      "  --help  Show this message and exit.\n"
     ]
    }
   ],
   "source": [
    "! python src/cli.py recreate-database --help"
   ]
  },
  {
   "cell_type": "code",
   "execution_count": 5,
   "id": "5c48df92-a464-4894-a965-34e8958e1197",
   "metadata": {},
   "outputs": [
    {
     "name": "stderr",
     "output_type": "stream",
     "text": [
      "\u001b[32m2022-10-23 13:10:05.785\u001b[0m | \u001b[1mINFO    \u001b[0m | \u001b[36m__main__\u001b[0m:\u001b[36mrecreate_database\u001b[0m:\u001b[36m23\u001b[0m - \u001b[1mrecreate_database invoked\u001b[0m\n",
      "\u001b[32m2022-10-23 13:10:05.785\u001b[0m | \u001b[1mINFO    \u001b[0m | \u001b[36minit_database\u001b[0m:\u001b[36minit_database\u001b[0m:\u001b[36m18\u001b[0m - \u001b[1m>>> executing sql\\init\\create_table_currency_basket.sql\u001b[0m\n",
      "\u001b[32m2022-10-23 13:10:05.812\u001b[0m | \u001b[1mINFO    \u001b[0m | \u001b[36minit_database\u001b[0m:\u001b[36minit_database\u001b[0m:\u001b[36m18\u001b[0m - \u001b[1m>>> executing sql\\init\\create_table_rates.sql\u001b[0m\n"
     ]
    }
   ],
   "source": [
    "! python src/cli.py recreate-database"
   ]
  },
  {
   "cell_type": "markdown",
   "id": "12eb27e5-c4d1-414d-8450-fbe287394f5f",
   "metadata": {},
   "source": [
    "#### Create (and save) DAG from config"
   ]
  },
  {
   "cell_type": "code",
   "execution_count": 6,
   "id": "eec374b6-5b83-4ad9-be2b-447b608b77fb",
   "metadata": {},
   "outputs": [
    {
     "name": "stdout",
     "output_type": "stream",
     "text": [
      "downloadable:\n",
      "  - USD\n",
      "  - EUR\n",
      "  - RUB\n",
      "  - CNY\n",
      "  - GBP\n",
      "  - UAH\n",
      "  - CHF\n",
      "  - PLN\n",
      "  - TRY\n",
      "calculated:\n",
      "  - code: CURR_BASKET\n",
      "    sql_filename: calculate_currency_basket.sql  # = (RUB ** 0.5) * (USD ** 0.3) * (EUR ** 0.1) * (CNY ** 0.1)\n",
      "    dependencies:\n",
      "      - USD\n",
      "      - EUR\n",
      "      - RUB\n",
      "      - CNY\n",
      "  - code: EUR_TO_USD\n",
      "    sql_filename: calculate_eur_to_usd.sql  # = EUR / USD\n",
      "    dependencies:\n",
      "      - USD\n",
      "      - EUR\n",
      "  - code: USD_TO_EUR\n",
      "    sql_filename: calculate_usd_to_eur.sql  # = 1 / EUR_TO_USD\n",
      "    dependencies:\n",
      "      - EUR_TO_USD\n"
     ]
    }
   ],
   "source": [
    "! more currencies.yml"
   ]
  },
  {
   "cell_type": "code",
   "execution_count": 7,
   "id": "4326c1ba-db41-4aa8-b953-ff7b8ea29b5f",
   "metadata": {},
   "outputs": [
    {
     "name": "stdout",
     "output_type": "stream",
     "text": [
      "Usage: cli.py create-dag [OPTIONS]\n",
      "\n",
      "  Create DAG from tasks config file, save DAG and it's image as files\n",
      "\n",
      "Options:\n",
      "  -c, --config-filepath PATH\n",
      "  -o, --output-dag-filepath PATH\n",
      "  -i, --output-image-filepath PATH\n",
      "  --help                          Show this message and exit.\n"
     ]
    }
   ],
   "source": [
    "! python src/cli.py create-dag --help"
   ]
  },
  {
   "cell_type": "code",
   "execution_count": 8,
   "id": "8b43d9e5-0991-44d0-b270-b6229873f78f",
   "metadata": {},
   "outputs": [
    {
     "name": "stderr",
     "output_type": "stream",
     "text": [
      "\u001b[32m2022-10-23 13:10:08.047\u001b[0m | \u001b[1mINFO    \u001b[0m | \u001b[36m__main__\u001b[0m:\u001b[36mcreate_dag\u001b[0m:\u001b[36m32\u001b[0m - \u001b[1mcreate_dag invoked with args: {'config_filepath': 'currencies.yml', 'output_dag_filepath': 'artifacts/dag.pkl', 'output_image_filepath': 'artifacts/dag.png'}\u001b[0m\n"
     ]
    }
   ],
   "source": [
    "! python src/cli.py create-dag -c currencies.yml"
   ]
  },
  {
   "cell_type": "markdown",
   "id": "81372eb5-301a-4c59-b73e-0646c1cbb2fd",
   "metadata": {},
   "source": [
    "Exported DAG image:\n",
    "\n",
    "![graph-schema](artifacts/dag.png)"
   ]
  },
  {
   "cell_type": "markdown",
   "id": "380ae722-9fcc-4e7c-9662-14716cb8edc7",
   "metadata": {},
   "source": [
    "#### Execute DAG (for one date)"
   ]
  },
  {
   "cell_type": "code",
   "execution_count": 9,
   "id": "ad0c7ab6-5b22-457f-990a-b95d2a531821",
   "metadata": {},
   "outputs": [
    {
     "name": "stdout",
     "output_type": "stream",
     "text": [
      "Usage: cli.py insert-data [OPTIONS]\n",
      "\n",
      "  Load DAG from file, run DAG for specified date, save results into database\n",
      "\n",
      "Options:\n",
      "  -f, --dag-filepath PATH\n",
      "  -d, --date [%Y-%m-%d]\n",
      "  -t, --max-tasks INTEGER\n",
      "  --help                   Show this message and exit.\n"
     ]
    }
   ],
   "source": [
    "! python src/cli.py insert-data --help"
   ]
  },
  {
   "cell_type": "code",
   "execution_count": 10,
   "id": "b8ff1e83-4dce-4f93-9cce-18ce4ddaac98",
   "metadata": {},
   "outputs": [
    {
     "name": "stderr",
     "output_type": "stream",
     "text": [
      "\u001b[32m2022-10-23 13:10:10.978\u001b[0m | \u001b[1mINFO    \u001b[0m | \u001b[36m__main__\u001b[0m:\u001b[36minsert_data\u001b[0m:\u001b[36m44\u001b[0m - \u001b[1minsert_data invoked with args: {'date': '2022-09-01', 'dag_filepath': 'artifacts/dag.pkl', 'max_tasks': 5}\u001b[0m\n"
     ]
    }
   ],
   "source": [
    "! python src/cli.py insert-data -d 2022-09-01"
   ]
  },
  {
   "cell_type": "markdown",
   "id": "874b35e8-15cb-45ca-9bb1-bdf32b5ec6bf",
   "metadata": {},
   "source": [
    "*Note: database table has constraint on currency_code + date uniqueness*"
   ]
  },
  {
   "cell_type": "code",
   "execution_count": 11,
   "id": "a9203677-d83d-4175-87f6-9ed816273856",
   "metadata": {},
   "outputs": [],
   "source": [
    "for dt in pd.date_range(start='2022-09-02', end='2022-09-20'):\n",
    "    run(['python', 'src/cli.py', 'insert-data', '-d', str(dt.date())], shell=True)"
   ]
  },
  {
   "cell_type": "markdown",
   "id": "effbc207-3ced-495e-9b51-fb725be80b67",
   "metadata": {},
   "source": [
    "#### Export database table into file"
   ]
  },
  {
   "cell_type": "code",
   "execution_count": 12,
   "id": "84e1c9ee-0256-456b-8e20-22be4019f2f7",
   "metadata": {},
   "outputs": [
    {
     "name": "stdout",
     "output_type": "stream",
     "text": [
      "Usage: cli.py export-table [OPTIONS]\n",
      "\n",
      "  Export `rates` table into CSV-file\n",
      "\n",
      "Options:\n",
      "  -f, --output-filepath PATH\n",
      "  --help                      Show this message and exit.\n"
     ]
    }
   ],
   "source": [
    "! python src/cli.py export-table --help"
   ]
  },
  {
   "cell_type": "code",
   "execution_count": 13,
   "id": "3af04925-7afc-4227-9fc2-c969234c8493",
   "metadata": {},
   "outputs": [
    {
     "name": "stderr",
     "output_type": "stream",
     "text": [
      "\u001b[32m2022-10-23 13:10:42.720\u001b[0m | \u001b[1mINFO    \u001b[0m | \u001b[36m__main__\u001b[0m:\u001b[36mexport_table\u001b[0m:\u001b[36m52\u001b[0m - \u001b[1mexport_table invoked with args: {'output_filepath': 'artifacts/rates.csv'}\u001b[0m\n"
     ]
    }
   ],
   "source": [
    "! python src/cli.py export-table"
   ]
  },
  {
   "cell_type": "code",
   "execution_count": 14,
   "id": "96a5323f-c267-4962-a569-ed40231d8f25",
   "metadata": {},
   "outputs": [
    {
     "data": {
      "text/html": [
       "<div>\n",
       "<style scoped>\n",
       "    .dataframe tbody tr th:only-of-type {\n",
       "        vertical-align: middle;\n",
       "    }\n",
       "\n",
       "    .dataframe tbody tr th {\n",
       "        vertical-align: top;\n",
       "    }\n",
       "\n",
       "    .dataframe thead th {\n",
       "        text-align: right;\n",
       "    }\n",
       "</style>\n",
       "<table border=\"1\" class=\"dataframe\">\n",
       "  <thead>\n",
       "    <tr style=\"text-align: right;\">\n",
       "      <th></th>\n",
       "      <th>dt</th>\n",
       "      <th>currency_code</th>\n",
       "      <th>value</th>\n",
       "      <th>sysmoment</th>\n",
       "    </tr>\n",
       "  </thead>\n",
       "  <tbody>\n",
       "    <tr>\n",
       "      <th>0</th>\n",
       "      <td>2022-09-01</td>\n",
       "      <td>CNY</td>\n",
       "      <td>0.370000</td>\n",
       "      <td>2022-10-23 10:10:11</td>\n",
       "    </tr>\n",
       "    <tr>\n",
       "      <th>1</th>\n",
       "      <td>2022-09-01</td>\n",
       "      <td>GBP</td>\n",
       "      <td>2.971500</td>\n",
       "      <td>2022-10-23 10:10:11</td>\n",
       "    </tr>\n",
       "    <tr>\n",
       "      <th>2</th>\n",
       "      <td>2022-09-01</td>\n",
       "      <td>PLN</td>\n",
       "      <td>0.539460</td>\n",
       "      <td>2022-10-23 10:10:11</td>\n",
       "    </tr>\n",
       "    <tr>\n",
       "      <th>3</th>\n",
       "      <td>2022-09-01</td>\n",
       "      <td>UAH</td>\n",
       "      <td>0.069189</td>\n",
       "      <td>2022-10-23 10:10:11</td>\n",
       "    </tr>\n",
       "    <tr>\n",
       "      <th>4</th>\n",
       "      <td>2022-09-01</td>\n",
       "      <td>USD</td>\n",
       "      <td>2.554600</td>\n",
       "      <td>2022-10-23 10:10:11</td>\n",
       "    </tr>\n",
       "    <tr>\n",
       "      <th>...</th>\n",
       "      <td>...</td>\n",
       "      <td>...</td>\n",
       "      <td>...</td>\n",
       "      <td>...</td>\n",
       "    </tr>\n",
       "    <tr>\n",
       "      <th>235</th>\n",
       "      <td>2022-09-20</td>\n",
       "      <td>CURR_BASKET</td>\n",
       "      <td>0.269000</td>\n",
       "      <td>2022-10-23 10:10:40</td>\n",
       "    </tr>\n",
       "    <tr>\n",
       "      <th>236</th>\n",
       "      <td>2022-09-20</td>\n",
       "      <td>CHF</td>\n",
       "      <td>2.625800</td>\n",
       "      <td>2022-10-23 10:10:40</td>\n",
       "    </tr>\n",
       "    <tr>\n",
       "      <th>237</th>\n",
       "      <td>2022-09-20</td>\n",
       "      <td>EUR_TO_USD</td>\n",
       "      <td>0.999448</td>\n",
       "      <td>2022-10-23 10:10:40</td>\n",
       "    </tr>\n",
       "    <tr>\n",
       "      <th>238</th>\n",
       "      <td>2022-09-20</td>\n",
       "      <td>PLN</td>\n",
       "      <td>0.537200</td>\n",
       "      <td>2022-10-23 10:10:40</td>\n",
       "    </tr>\n",
       "    <tr>\n",
       "      <th>239</th>\n",
       "      <td>2022-09-20</td>\n",
       "      <td>USD_TO_EUR</td>\n",
       "      <td>1.000552</td>\n",
       "      <td>2022-10-23 10:10:40</td>\n",
       "    </tr>\n",
       "  </tbody>\n",
       "</table>\n",
       "<p>240 rows × 4 columns</p>\n",
       "</div>"
      ],
      "text/plain": [
       "            dt currency_code     value            sysmoment\n",
       "0   2022-09-01           CNY  0.370000  2022-10-23 10:10:11\n",
       "1   2022-09-01           GBP  2.971500  2022-10-23 10:10:11\n",
       "2   2022-09-01           PLN  0.539460  2022-10-23 10:10:11\n",
       "3   2022-09-01           UAH  0.069189  2022-10-23 10:10:11\n",
       "4   2022-09-01           USD  2.554600  2022-10-23 10:10:11\n",
       "..         ...           ...       ...                  ...\n",
       "235 2022-09-20   CURR_BASKET  0.269000  2022-10-23 10:10:40\n",
       "236 2022-09-20           CHF  2.625800  2022-10-23 10:10:40\n",
       "237 2022-09-20    EUR_TO_USD  0.999448  2022-10-23 10:10:40\n",
       "238 2022-09-20           PLN  0.537200  2022-10-23 10:10:40\n",
       "239 2022-09-20    USD_TO_EUR  1.000552  2022-10-23 10:10:40\n",
       "\n",
       "[240 rows x 4 columns]"
      ]
     },
     "execution_count": 14,
     "metadata": {},
     "output_type": "execute_result"
    }
   ],
   "source": [
    "data = pd.read_csv('artifacts/rates.csv')\n",
    "data['dt'] = pd.to_datetime(data['dt'])\n",
    "data"
   ]
  },
  {
   "cell_type": "code",
   "execution_count": 15,
   "id": "7893545d-18ee-4c05-bc9c-07845462ba17",
   "metadata": {},
   "outputs": [
    {
     "data": {
      "image/png": "[encoded data removed]",
      "text/plain": [
       "<Figure size 1000x500 with 1 Axes>"
      ]
     },
     "metadata": {},
     "output_type": "display_data"
    }
   ],
   "source": [
    "data[data['currency_code'] == 'CURR_BASKET'].sort_values('dt').set_index('dt')['value'].plot();"
   ]
  },
  {
   "cell_type": "code",
   "execution_count": null,
   "id": "8809f029-0640-4c1b-9b8f-d726ac1a389d",
   "metadata": {},
   "outputs": [],
   "source": []
  }
 ],
 "metadata": {
  "kernelspec": {
   "display_name": "Python 3 (ipykernel)",
   "language": "python",
   "name": "python3"
  },
  "language_info": {
   "codemirror_mode": {
    "name": "ipython",
    "version": 3
   },
   "file_extension": ".py",
   "mimetype": "text/x-python",
   "name": "python",
   "nbconvert_exporter": "python",
   "pygments_lexer": "ipython3",
   "version": "3.9.13"
  }
 },
 "nbformat": 4,
 "nbformat_minor": 5
}
